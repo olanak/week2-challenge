{
 "cells": [
  {
   "cell_type": "code",
   "execution_count": null,
   "metadata": {},
   "outputs": [],
   "source": [
    "import pandas as pd\n",
    "from src.preprocessing import clean_data\n",
    "from src.user_analysis import aggregate_user_behavior\n",
    "from src.mongodb_connector import connect_to_mongodb, fetch_data\n",
    "\n",
    "# MongoDB configuration\n",
    "MONGO_URI = \"mongodb://127.0.0.1:27017\"\n",
    "DB_NAME = \"telecom\"\n",
    "COLLECTION_NAME = \"user_data\"\n",
    "\n",
    "# Step 1: Connect to MongoDB and load data\n",
    "def load_data():\n",
    "    db = connect_to_mongodb(MONGO_URI, DB_NAME)\n",
    "    collection = db[COLLECTION_NAME]\n",
    "    data = fetch_data(collection)\n",
    "    return pd.DataFrame(data)\n",
    "\n",
    "# Step 2: Clean the data\n",
    "def preprocess_data(df):\n",
    "    print(\"Cleaning data...\")\n",
    "    return clean_data(df)\n",
    "\n",
    "# Step 3: Aggregate user behavior\n",
    "def analyze_user_behavior(df):\n",
    "    print(\"Aggregating user behavior...\")\n",
    "    return aggregate_user_behavior(df)\n",
    "\n",
    "# Main execution\n",
    "def main():\n",
    "    print(\"Loading data from MongoDB...\")\n",
    "    df = load_data()\n",
    "\n",
    "    print(\"Data loaded successfully.\")\n",
    "    print(\"Initial Data Sample:\")\n",
    "    print(df.head())\n",
    "\n",
    "    df_cleaned = preprocess_data(df)\n",
    "    print(\"Data after cleaning:\")\n",
    "    print(df_cleaned.head())\n",
    "\n",
    "    user_behavior = analyze_user_behavior(df_cleaned)\n",
    "    print(\"Aggregated User Behavior:\")\n",
    "    print(user_behavior.head())\n",
    "\n",
    "    # Save results to a CSV for further analysis\n",
    "    user_behavior.to_csv(\"Data/processed/user_behavior.csv\", index=False)\n",
    "    print(\"Results saved to Data/processed/user_behavior.csv\")\n",
    "\n",
    "if __name__ == \"__main__\":\n",
    "    main()\n"
   ]
  }
 ],
 "metadata": {
  "kernelspec": {
   "display_name": "venv",
   "language": "python",
   "name": "python3"
  },
  "language_info": {
   "name": "python",
   "version": "3.12.3"
  }
 },
 "nbformat": 4,
 "nbformat_minor": 2
}
